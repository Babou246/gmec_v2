{
 "cells": [
  {
   "cell_type": "code",
   "execution_count": 10,
   "metadata": {},
   "outputs": [
    {
     "data": {
      "text/plain": [
       "4"
      ]
     },
     "execution_count": 10,
     "metadata": {},
     "output_type": "execute_result"
    }
   ],
   "source": [
    "import os\n",
    "import random\n",
    "import pandas as pd\n",
    "\n",
    "random.randint(2,6)"
   ]
  },
  {
   "cell_type": "code",
   "execution_count": 11,
   "metadata": {},
   "outputs": [
    {
     "data": {
      "text/plain": [
       "15491"
      ]
     },
     "execution_count": 11,
     "metadata": {},
     "output_type": "execute_result"
    }
   ],
   "source": [
    "random.getrandbits(14)"
   ]
  },
  {
   "cell_type": "code",
   "execution_count": 12,
   "metadata": {},
   "outputs": [],
   "source": [
    "import smtplib"
   ]
  },
  {
   "cell_type": "code",
   "execution_count": 13,
   "metadata": {},
   "outputs": [],
   "source": [
    "server = smtplib.SMTP_SSL('smtp.gmail.com',465)\n"
   ]
  },
  {
   "cell_type": "code",
   "execution_count": 14,
   "metadata": {},
   "outputs": [],
   "source": [
    "df=pd.read_excel('uploads/ECHANT_CTR_2023-05.xlsx').head(3)"
   ]
  },
  {
   "cell_type": "code",
   "execution_count": 15,
   "metadata": {},
   "outputs": [
    {
     "name": "stdout",
     "output_type": "stream",
     "text": [
      "True\n",
      "True\n",
      "True\n"
     ]
    }
   ],
   "source": [
    "for index, row in df.iterrows():\n",
    "    print(pd.notnull(row['Date de résolution maximum']) or isinstance(row['Date de résolution maximum'], pd.Timestamp))"
   ]
  },
  {
   "cell_type": "code",
   "execution_count": 16,
   "metadata": {},
   "outputs": [
    {
     "data": {
      "text/plain": [
       "'/home/dev/desc/files_rejet'"
      ]
     },
     "execution_count": 16,
     "metadata": {},
     "output_type": "execute_result"
    }
   ],
   "source": [
    "os.path.join(os.getcwd(),'files_rejet')"
   ]
  },
  {
   "cell_type": "code",
   "execution_count": 17,
   "metadata": {},
   "outputs": [
    {
     "name": "stdout",
     "output_type": "stream",
     "text": [
      "  N° CommandeBabacar        Enregistré le   Date de résolution  \\\n",
      "0     S230526_000125  2023-05-26 10:12:43  2023-05-26 12:46:54   \n",
      "1     S230517_000323  2023-05-17 15:58:29  2023-05-19 08:53:05   \n",
      "2     S230502_000156  2023-05-02 11:08:08  2023-05-09 14:27:26   \n",
      "3     S230504_000127  2023-05-04 11:21:55  2023-05-04 14:06:31   \n",
      "4     S230523_000258  2023-05-23 14:16:24  2023-05-23 17:09:11   \n",
      "\n",
      "                        Libellé du Service (complet)  \\\n",
      "0  Demande de service/DIS/Assist/SIMPLISSIMO/Info...   \n",
      "1  Demande de service/DIS/Assist/GAIA/Demande.Val...   \n",
      "2  Demande de service/DIS/Travaux/NESSICO/Donnée....   \n",
      "3  Demande de service/DIS/Assist/NESSICO/Stock.An...   \n",
      "4  Demande de service/DIS/Assist/SIMPLISSIMO/Clie...   \n",
      "\n",
      "                   Saisi par                  Demandeur  \\\n",
      "0        DIOP Mokhtar Abdoul        DIOP Mokhtar Abdoul   \n",
      "1          NDIAYE DJIM MOMAR          NDIAYE DJIM MOMAR   \n",
      "2              DIENE MOHAMED              DIENE MOHAMED   \n",
      "3  KANE Mouhamadou Abdoulaye  KANE Mouhamadou Abdoulaye   \n",
      "4            KANE MARIE SADA            KANE MARIE SADA   \n",
      "\n",
      "  Demandeur : Entité (complète)  \\\n",
      "0       Sonatel SA/DESC/OSB/RCD   \n",
      "1    Sonatel SA/DV/DOC/DRVC/ACT   \n",
      "2        Sonatel SA/DFC/CRA/RAG   \n",
      "3                Sonatel SA/DDE   \n",
      "4                 Sonatel SA/DV   \n",
      "\n",
      "                             Localisation (complète) Urgence utilisateur  \\\n",
      "0  Région de Dakar/Dept Dakar/Sacré-Cœur-CLR/Bati...          3 - Mineur   \n",
      "1               Région de Diourbel/Dept Mbacké/Touba          3 - Mineur   \n",
      "2  Région de Dakar/Dept Dakar/Siège VDN/BATIMENT ...          3 - Mineur   \n",
      "3        Région de Dakar/Dept Dakar/Immeuble ARCADES          3 - Mineur   \n",
      "4        Région de Dakar/Dept Dakar/Accueil Almadies          3 - Mineur   \n",
      "\n",
      "      Impact  ...        TYPE_ECHANT Défaut (OUI/NON)                  Type  \\\n",
      "0  2 - Moyen  ...  TRAITEMENT_REFUSE              OUI  Erreur de TRAITEMENT   \n",
      "1  2 - Moyen  ...  TRAITEMENT_REFUSE              NON                   NaN   \n",
      "2  2 - Moyen  ...  TRAITEMENT_REFUSE              NON                   NaN   \n",
      "3  2 - Moyen  ...  TRAITEMENT_REFUSE         NON MAIS                   NaN   \n",
      "4  2 - Moyen  ...  TRAITEMENT_REFUSE              OUI  Erreur de TRAITEMENT   \n",
      "\n",
      "                               Description du Défaut  Commentaires  \\\n",
      "0  TRAIT-03-Refus par le demandeur justifié (Trai...           NaN   \n",
      "1                                                NaN           NaN   \n",
      "2                                                NaN           NaN   \n",
      "3                                                NaN           NaN   \n",
      "4  TRAIT-03-Refus par le demandeur justifié (Trai...           NaN   \n",
      "\n",
      "  NOTE_DEFAUT Agent ESCALADE Pertinence ESCALADE TypeErreurEsacalade  \\\n",
      "0           1            NaN                 NaN                 NaN   \n",
      "1           0            NaN                 NaN                 NaN   \n",
      "2           0            NaN                 NaN                 NaN   \n",
      "3           0            NaN                 NaN                 NaN   \n",
      "4           1            NaN                 NaN                 NaN   \n",
      "\n",
      "  Actions Correctives/Préventives  \n",
      "0                             NaN  \n",
      "1                             NaN  \n",
      "2                             NaN  \n",
      "3                             NaN  \n",
      "4                             NaN  \n",
      "\n",
      "[5 rows x 58 columns]\n"
     ]
    }
   ],
   "source": [
    "import os\n",
    "import glob\n",
    "import pandas as pd\n",
    "\n",
    "folder_path = os.path.join(os.getcwd(), 'files_rejet')\n",
    "\n",
    "# Obtenir la liste des fichiers dans le répertoire triés par date de modification\n",
    "file_list = glob.glob(os.path.join(folder_path, 'rejected_records_*.csv'))\n",
    "file_list.sort(key=os.path.getmtime)\n",
    "\n",
    "# Sélectionner le dernier fichier dans la liste\n",
    "latest_file = file_list[-1]\n",
    "\n",
    "# Charger le fichier avec pandas pour le traitement\n",
    "df = pd.read_csv(latest_file)\n",
    "\n",
    "print(df.head())\n"
   ]
  }
 ],
 "metadata": {
  "kernelspec": {
   "display_name": "env",
   "language": "python",
   "name": "python3"
  },
  "language_info": {
   "codemirror_mode": {
    "name": "ipython",
    "version": 3
   },
   "file_extension": ".py",
   "mimetype": "text/x-python",
   "name": "python",
   "nbconvert_exporter": "python",
   "pygments_lexer": "ipython3",
   "version": "3.10.6"
  },
  "orig_nbformat": 4
 },
 "nbformat": 4,
 "nbformat_minor": 2
}
